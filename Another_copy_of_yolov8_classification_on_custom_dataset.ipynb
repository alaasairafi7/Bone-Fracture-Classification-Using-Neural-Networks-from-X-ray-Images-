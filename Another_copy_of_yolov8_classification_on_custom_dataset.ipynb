{
  "cells": [
    {
      "cell_type": "markdown",
      "metadata": {
        "id": "oe9vkEvFABbN"
      },
      "source": [
        "\n",
        "# Train YOLOv8 Classification on Your Custom Dataset\n",
        "\n",
        "\n",
        "## Steps\n",
        "\n",
        "In this noteboook, we are going to cover:\n",
        "\n",
        "- Before you start\n",
        "- Install YOLOv8\n",
        "- Preparing a custom dataset\n",
        "- Custom Training\n",
        "- Validate Custom Model\n",
        "- Inference with Custom Model\n",
        "- Export Model\n",
        "- Download Model\n",
        "\n",
        "**Let's begin!**"
      ]
    },
    {
      "cell_type": "markdown",
      "metadata": {
        "id": "FyRdDYkqAKN4"
      },
      "source": [
        "## Before you start\n",
        "\n",
        "Let's make sure that we have access to GPU. We can use `nvidia-smi` command to do that. In case of any problems navigate to `Runtime` -> `Change Runtime Type`, set it to `GPU`, and then click `Save`."
      ]
    },
    {
      "cell_type": "code",
      "execution_count": null,
      "metadata": {
        "id": "Y8cDtxLIBHgQ",
        "colab": {
          "base_uri": "https://localhost:8080/"
        },
        "outputId": "393e34eb-3cb6-46e2-ddfa-17e447d8ee6e"
      },
      "outputs": [
        {
          "output_type": "stream",
          "name": "stdout",
          "text": [
            "/bin/bash: line 1: nvidia-smi: command not found\n"
          ]
        }
      ],
      "source": [
        "!nvidia-smi"
      ]
    },
    {
      "cell_type": "code",
      "execution_count": null,
      "metadata": {
        "id": "CjpPg4mGKc1v",
        "colab": {
          "base_uri": "https://localhost:8080/"
        },
        "outputId": "486136c6-7410-4910-9372-0c8cc1e73ae4"
      },
      "outputs": [
        {
          "output_type": "stream",
          "name": "stdout",
          "text": [
            "/content\n"
          ]
        }
      ],
      "source": [
        "import os\n",
        "HOME = os.getcwd()\n",
        "print(HOME)"
      ]
    },
    {
      "cell_type": "markdown",
      "metadata": {
        "id": "3C3EO_2zNChu"
      },
      "source": [
        "## Install YOLOv8\n",
        "There are two ways to install YOLOv8\n",
        "- From the source (for development)\n",
        "- Via pip (recommended)"
      ]
    },
    {
      "cell_type": "code",
      "execution_count": null,
      "metadata": {
        "id": "tdSMcABDNKW-",
        "colab": {
          "base_uri": "https://localhost:8080/"
        },
        "outputId": "a8662879-cf14-456f-abd4-85f351c22a9f"
      },
      "outputs": [
        {
          "output_type": "stream",
          "name": "stdout",
          "text": [
            "Ultralytics YOLOv8.2.18 🚀 Python-3.10.12 torch-2.2.0+cpu CPU (Intel Xeon 2.00GHz)\n",
            "Setup complete ✅ (96 CPUs, 334.6 GB RAM, 15.6/225.3 GB disk)\n"
          ]
        }
      ],
      "source": [
        "# Pip install method (recommended)\n",
        "\n",
        "!pip install ultralytics\n",
        "\n",
        "from IPython import display\n",
        "display.clear_output()\n",
        "\n",
        "import ultralytics\n",
        "ultralytics.checks()"
      ]
    },
    {
      "cell_type": "code",
      "execution_count": null,
      "metadata": {
        "id": "iVvaIYEEPOty"
      },
      "outputs": [],
      "source": [
        "\n",
        "# %cd {HOME}\n",
        "# !git clone github.com/ultralytics/ultralytics\n",
        "# %cd {HOME}/ultralytics\n",
        "# !pip install -e .\n",
        "\n",
        "# from IPython import display\n",
        "# display.clear_output()\n",
        "\n",
        "# import ultralytics\n",
        "# ultralytics.checks()"
      ]
    },
    {
      "cell_type": "code",
      "execution_count": null,
      "metadata": {
        "id": "VOEYrlBoP9-E"
      },
      "outputs": [],
      "source": [
        "from ultralytics import YOLO\n",
        "\n",
        "from IPython.display import display, Image"
      ]
    },
    {
      "cell_type": "markdown",
      "metadata": {
        "id": "6JHICVjZbVKn"
      },
      "source": [
        "## Preparing a custom dataset\n",
        "\n",
        "To prepare the custom data for classification using YOLO v8, Ensure that your dataset is structured as described below: You should have separate folders for train, test, and val, each containing subfolders for each class (e.g., ClassA, ClassB). Place the corresponding images for each class within their respective subfolders."
      ]
    },
    {
      "cell_type": "markdown",
      "source": [
        "### Dataset Structure\n",
        "```\n",
        "Dataset\n",
        "│\n",
        "└───train\n",
        "│   └───ClassA\n",
        "│       │   ClassA_1.jpg\n",
        "│       │   ClassA_2.jpg\n",
        "│       │   ...\n",
        "│   └───ClassB\n",
        "│       │   ClassB_1.jpg\n",
        "│       │   ClassB_2.jpg\n",
        "│       │   ...\n",
        "│   └───...\n",
        "└───test\n",
        "│   └───ClassA\n",
        "│       │   ClassA_9090.jpg\n",
        "│       │   ClassA_9895.jpg\n",
        "│       │   ...\n",
        "│   └───ClassB\n",
        "│       │   ClassB_2343.jpg\n",
        "│       │   ClassB_2312.jpg\n",
        "│       │   ...\n",
        "│   └───...\n",
        "└───val\n",
        "│   └───ClassA\n",
        "│       │   ClassA_3070.jpg\n",
        "│       │   ClassA_2845.jpg\n",
        "│       │   ...\n",
        "│   └───ClassB\n",
        "│       │   ClassB_2903.jpg\n",
        "│       │   ClassB_2232.jpg\n",
        "│       │   ...\n",
        "│   └───...\n",
        "```\n"
      ],
      "metadata": {
        "id": "EhaZTIhH1hZs"
      }
    },
    {
      "cell_type": "code",
      "source": [
        "from google.colab import drive\n",
        "\n",
        "drive.mount('/content/gdrive')\n"
      ],
      "metadata": {
        "id": "g02d6Oe7kvRg",
        "colab": {
          "base_uri": "https://localhost:8080/"
        },
        "outputId": "30d34504-c7ee-4ee6-8b96-74ca7f76425a"
      },
      "execution_count": null,
      "outputs": [
        {
          "output_type": "stream",
          "name": "stdout",
          "text": [
            "Drive already mounted at /content/gdrive; to attempt to forcibly remount, call drive.mount(\"/content/gdrive\", force_remount=True).\n"
          ]
        }
      ]
    },
    {
      "cell_type": "code",
      "source": [
        "DATA_DIR='/content/gdrive/MyDrive/yolodataset'"
      ],
      "metadata": {
        "id": "fuMl26nj79My"
      },
      "execution_count": null,
      "outputs": []
    },
    {
      "cell_type": "markdown",
      "source": [
        "### Download the Characters Dataset\n",
        "The dataset includes 9945 images. The characters are structure in the format as described above."
      ],
      "metadata": {
        "id": "IHNLX8pt555n"
      }
    },
    {
      "cell_type": "markdown",
      "source": [
        "You may use this notebook with your own dataset as well. To use this example with your own dataset, place your zip data file into the`/content` (HOME Directory of the Notebook) directory."
      ],
      "metadata": {
        "id": "YWVM1kYc6qfU"
      }
    },
    {
      "cell_type": "markdown",
      "metadata": {
        "id": "YUjFBKKqXa-u"
      },
      "source": [
        "## Custom Training"
      ]
    },
    {
      "cell_type": "code",
      "execution_count": null,
      "metadata": {
        "id": "D2YkphuiaE7_",
        "colab": {
          "base_uri": "https://localhost:8080/"
        },
        "outputId": "f3c722f5-d427-46ca-8343-a43899764b81"
      },
      "outputs": [
        {
          "output_type": "stream",
          "name": "stdout",
          "text": [
            "/content\n",
            "Ultralytics YOLOv8.2.18 🚀 Python-3.10.12 torch-2.2.0+cpu CPU (Intel Xeon 2.00GHz)\n",
            "\u001b[34m\u001b[1mengine/trainer: \u001b[0mtask=classify, mode=train, model=yolov8m-cls.pt, data=/content/gdrive/MyDrive/yolodataset, epochs=50, time=None, patience=100, batch=16, imgsz=128, save=True, save_period=-1, cache=False, device=None, workers=8, project=None, name=train2, exist_ok=False, pretrained=True, optimizer=auto, verbose=True, seed=0, deterministic=True, single_cls=False, rect=False, cos_lr=False, close_mosaic=10, resume=False, amp=True, fraction=1.0, profile=False, freeze=None, multi_scale=False, overlap_mask=True, mask_ratio=4, dropout=0.0, val=True, split=val, save_json=False, save_hybrid=False, conf=None, iou=0.7, max_det=300, half=False, dnn=False, plots=True, source=None, vid_stride=1, stream_buffer=False, visualize=False, augment=False, agnostic_nms=False, classes=None, retina_masks=False, embed=None, show=False, save_frames=False, save_txt=False, save_conf=False, save_crop=False, show_labels=True, show_conf=True, show_boxes=True, line_width=None, format=torchscript, keras=False, optimize=False, int8=False, dynamic=False, simplify=False, opset=None, workspace=4, nms=False, lr0=0.01, lrf=0.01, momentum=0.937, weight_decay=0.0005, warmup_epochs=3.0, warmup_momentum=0.8, warmup_bias_lr=0.1, box=7.5, cls=0.5, dfl=1.5, pose=12.0, kobj=1.0, label_smoothing=0.0, nbs=64, hsv_h=0.015, hsv_s=0.7, hsv_v=0.4, degrees=0.0, translate=0.1, scale=0.5, shear=0.0, perspective=0.0, flipud=0.0, fliplr=0.5, bgr=0.0, mosaic=1.0, mixup=0.0, copy_paste=0.0, auto_augment=randaugment, erasing=0.4, crop_fraction=1.0, cfg=None, tracker=botsort.yaml, save_dir=runs/classify/train2\n",
            "\u001b[34m\u001b[1mtrain:\u001b[0m /content/gdrive/MyDrive/yolodataset/train... found 1265 images in 7 classes ✅ \n",
            "\u001b[34m\u001b[1mval:\u001b[0m None...\n",
            "\u001b[34m\u001b[1mtest:\u001b[0m /content/gdrive/MyDrive/yolodataset/test... found 300 images in 6 classes: ERROR ❌️ requires 7 classes, not 6\n",
            "Overriding model.yaml nc=1000 with nc=7\n",
            "\n",
            "                   from  n    params  module                                       arguments                     \n",
            "  0                  -1  1      1392  ultralytics.nn.modules.conv.Conv             [3, 48, 3, 2]                 \n",
            "  1                  -1  1     41664  ultralytics.nn.modules.conv.Conv             [48, 96, 3, 2]                \n",
            "  2                  -1  2    111360  ultralytics.nn.modules.block.C2f             [96, 96, 2, True]             \n",
            "  3                  -1  1    166272  ultralytics.nn.modules.conv.Conv             [96, 192, 3, 2]               \n",
            "  4                  -1  4    813312  ultralytics.nn.modules.block.C2f             [192, 192, 4, True]           \n",
            "  5                  -1  1    664320  ultralytics.nn.modules.conv.Conv             [192, 384, 3, 2]              \n",
            "  6                  -1  4   3248640  ultralytics.nn.modules.block.C2f             [384, 384, 4, True]           \n",
            "  7                  -1  1   2655744  ultralytics.nn.modules.conv.Conv             [384, 768, 3, 2]              \n",
            "  8                  -1  2   7084032  ultralytics.nn.modules.block.C2f             [768, 768, 2, True]           \n",
            "  9                  -1  1    994567  ultralytics.nn.modules.head.Classify         [768, 7]                      \n",
            "YOLOv8m-cls summary: 141 layers, 15781303 parameters, 15781303 gradients, 41.9 GFLOPs\n",
            "Transferred 228/230 items from pretrained weights\n",
            "\u001b[34m\u001b[1mTensorBoard: \u001b[0mStart with 'tensorboard --logdir runs/classify/train2', view at http://localhost:6006/\n",
            "\u001b[34m\u001b[1mtrain: \u001b[0mScanning /content/gdrive/MyDrive/yolodataset/train... 1265 images, 0 corrupt: 100% 1265/1265 [00:00<?, ?it/s]\n",
            "\u001b[34m\u001b[1mval: \u001b[0mScanning /content/gdrive/MyDrive/yolodataset/test... 300 images, 0 corrupt: 100% 300/300 [00:00<?, ?it/s]\n",
            "\u001b[34m\u001b[1moptimizer:\u001b[0m 'optimizer=auto' found, ignoring 'lr0=0.01' and 'momentum=0.937' and determining best 'optimizer', 'lr0' and 'momentum' automatically... \n",
            "\u001b[34m\u001b[1moptimizer:\u001b[0m AdamW(lr=0.000714, momentum=0.9) with parameter groups 38 weight(decay=0.0), 39 weight(decay=0.0005), 39 bias(decay=0.0)\n",
            "\u001b[34m\u001b[1mTensorBoard: \u001b[0mmodel graph visualization added ✅\n",
            "Image sizes 128 train, 128 val\n",
            "Using 0 dataloader workers\n",
            "Logging results to \u001b[1mruns/classify/train2\u001b[0m\n",
            "Starting training for 50 epochs...\n",
            "\n",
            "      Epoch    GPU_mem       loss  Instances       Size\n",
            "       1/50         0G      1.638          1        128: 100% 80/80 [04:47<00:00,  3.60s/it]\n",
            "               classes   top1_acc   top5_acc: 100% 10/10 [01:15<00:00,  7.60s/it]\n",
            "                   all       0.01      0.677\n",
            "\n",
            "      Epoch    GPU_mem       loss  Instances       Size\n",
            "       2/50         0G      1.011          1        128: 100% 80/80 [00:39<00:00,  2.04it/s]\n",
            "               classes   top1_acc   top5_acc: 100% 10/10 [00:05<00:00,  1.79it/s]\n",
            "                   all          0      0.647\n",
            "\n",
            "      Epoch    GPU_mem       loss  Instances       Size\n",
            "       3/50         0G     0.8176          1        128: 100% 80/80 [00:37<00:00,  2.12it/s]\n",
            "               classes   top1_acc   top5_acc: 100% 10/10 [00:05<00:00,  1.82it/s]\n",
            "                   all    0.00333      0.723\n",
            "\n",
            "      Epoch    GPU_mem       loss  Instances       Size\n",
            "       4/50         0G     0.7604          1        128: 100% 80/80 [00:38<00:00,  2.08it/s]\n",
            "               classes   top1_acc   top5_acc: 100% 10/10 [00:05<00:00,  1.78it/s]\n",
            "                   all    0.00667       0.62\n",
            "\n",
            "      Epoch    GPU_mem       loss  Instances       Size\n",
            "       5/50         0G      0.709          1        128: 100% 80/80 [00:37<00:00,  2.14it/s]\n",
            "               classes   top1_acc   top5_acc: 100% 10/10 [00:05<00:00,  1.78it/s]\n",
            "                   all          0      0.643\n",
            "\n",
            "      Epoch    GPU_mem       loss  Instances       Size\n",
            "       6/50         0G     0.7104          1        128: 100% 80/80 [00:38<00:00,  2.10it/s]\n",
            "               classes   top1_acc   top5_acc: 100% 10/10 [00:05<00:00,  1.79it/s]\n",
            "                   all    0.00333      0.643\n",
            "\n",
            "      Epoch    GPU_mem       loss  Instances       Size\n",
            "       7/50         0G     0.6451          1        128: 100% 80/80 [00:37<00:00,  2.11it/s]\n",
            "               classes   top1_acc   top5_acc: 100% 10/10 [00:05<00:00,  1.80it/s]\n",
            "                   all    0.00667      0.723\n",
            "\n",
            "      Epoch    GPU_mem       loss  Instances       Size\n",
            "       8/50         0G     0.6263          1        128: 100% 80/80 [00:38<00:00,  2.07it/s]\n",
            "               classes   top1_acc   top5_acc: 100% 10/10 [00:05<00:00,  1.84it/s]\n",
            "                   all    0.00667      0.707\n",
            "\n",
            "      Epoch    GPU_mem       loss  Instances       Size\n",
            "       9/50         0G     0.5976          1        128: 100% 80/80 [00:37<00:00,  2.13it/s]\n",
            "               classes   top1_acc   top5_acc: 100% 10/10 [00:05<00:00,  1.87it/s]\n",
            "                   all     0.0133      0.743\n",
            "\n",
            "      Epoch    GPU_mem       loss  Instances       Size\n",
            "      10/50         0G     0.5768          1        128: 100% 80/80 [00:39<00:00,  2.04it/s]\n",
            "               classes   top1_acc   top5_acc: 100% 10/10 [00:05<00:00,  1.81it/s]\n",
            "                   all    0.00333      0.703\n",
            "\n",
            "      Epoch    GPU_mem       loss  Instances       Size\n",
            "      11/50         0G     0.5464          1        128: 100% 80/80 [00:38<00:00,  2.07it/s]\n",
            "               classes   top1_acc   top5_acc: 100% 10/10 [00:05<00:00,  1.80it/s]\n",
            "                   all    0.00667       0.72\n",
            "\n",
            "      Epoch    GPU_mem       loss  Instances       Size\n",
            "      12/50         0G     0.5501          1        128: 100% 80/80 [00:37<00:00,  2.13it/s]\n",
            "               classes   top1_acc   top5_acc: 100% 10/10 [00:05<00:00,  1.82it/s]\n",
            "                   all    0.00667      0.607\n",
            "\n",
            "      Epoch    GPU_mem       loss  Instances       Size\n",
            "      13/50         0G     0.5097          1        128: 100% 80/80 [00:38<00:00,  2.08it/s]\n",
            "               classes   top1_acc   top5_acc: 100% 10/10 [00:05<00:00,  1.78it/s]\n",
            "                   all       0.01      0.613\n",
            "\n",
            "      Epoch    GPU_mem       loss  Instances       Size\n",
            "      14/50         0G     0.4963          1        128: 100% 80/80 [00:38<00:00,  2.09it/s]\n",
            "               classes   top1_acc   top5_acc: 100% 10/10 [00:05<00:00,  1.82it/s]\n",
            "                   all    0.00667       0.62\n",
            "\n",
            "      Epoch    GPU_mem       loss  Instances       Size\n",
            "      15/50         0G     0.4985          1        128: 100% 80/80 [00:37<00:00,  2.14it/s]\n",
            "               classes   top1_acc   top5_acc: 100% 10/10 [00:05<00:00,  1.80it/s]\n",
            "                   all    0.00667      0.613\n",
            "\n",
            "      Epoch    GPU_mem       loss  Instances       Size\n",
            "      16/50         0G     0.4591          1        128: 100% 80/80 [00:36<00:00,  2.17it/s]\n",
            "               classes   top1_acc   top5_acc: 100% 10/10 [00:05<00:00,  1.88it/s]\n",
            "                   all          0      0.653\n",
            "\n",
            "      Epoch    GPU_mem       loss  Instances       Size\n",
            "      17/50         0G     0.4291          1        128: 100% 80/80 [00:36<00:00,  2.20it/s]\n",
            "               classes   top1_acc   top5_acc: 100% 10/10 [00:05<00:00,  1.91it/s]\n",
            "                   all       0.01      0.697\n",
            "\n",
            "      Epoch    GPU_mem       loss  Instances       Size\n",
            "      18/50         0G     0.4232          1        128: 100% 80/80 [00:36<00:00,  2.21it/s]\n",
            "               classes   top1_acc   top5_acc: 100% 10/10 [00:05<00:00,  1.92it/s]\n",
            "                   all    0.00667       0.62\n",
            "\n",
            "      Epoch    GPU_mem       loss  Instances       Size\n",
            "      19/50         0G     0.5045          1        128: 100% 80/80 [00:36<00:00,  2.16it/s]\n",
            "               classes   top1_acc   top5_acc: 100% 10/10 [00:05<00:00,  1.90it/s]\n",
            "                   all    0.00667      0.623\n",
            "\n",
            "      Epoch    GPU_mem       loss  Instances       Size\n",
            "      20/50         0G     0.4264          1        128: 100% 80/80 [00:37<00:00,  2.14it/s]\n",
            "               classes   top1_acc   top5_acc: 100% 10/10 [00:05<00:00,  1.94it/s]\n",
            "                   all     0.0133      0.627\n",
            "\n",
            "      Epoch    GPU_mem       loss  Instances       Size\n",
            "      21/50         0G     0.4315          1        128: 100% 80/80 [00:36<00:00,  2.18it/s]\n",
            "               classes   top1_acc   top5_acc: 100% 10/10 [00:05<00:00,  1.94it/s]\n",
            "                   all    0.00667      0.597\n",
            "\n",
            "      Epoch    GPU_mem       loss  Instances       Size\n",
            "      22/50         0G     0.4636          1        128: 100% 80/80 [00:36<00:00,  2.19it/s]\n",
            "               classes   top1_acc   top5_acc: 100% 10/10 [00:05<00:00,  1.90it/s]\n",
            "                   all    0.00667      0.637\n",
            "\n",
            "      Epoch    GPU_mem       loss  Instances       Size\n",
            "      23/50         0G     0.4468          1        128: 100% 80/80 [00:37<00:00,  2.13it/s]\n",
            "               classes   top1_acc   top5_acc: 100% 10/10 [00:05<00:00,  1.82it/s]\n",
            "                   all    0.00667       0.55\n",
            "\n",
            "      Epoch    GPU_mem       loss  Instances       Size\n",
            "      24/50         0G     0.4366          1        128: 100% 80/80 [00:37<00:00,  2.12it/s]\n",
            "               classes   top1_acc   top5_acc: 100% 10/10 [00:05<00:00,  1.81it/s]\n",
            "                   all    0.00667      0.527\n",
            "\n",
            "      Epoch    GPU_mem       loss  Instances       Size\n",
            "      25/50         0G     0.3944          1        128: 100% 80/80 [00:37<00:00,  2.12it/s]\n",
            "               classes   top1_acc   top5_acc: 100% 10/10 [00:06<00:00,  1.65it/s]\n",
            "                   all       0.01       0.57\n",
            "\n",
            "      Epoch    GPU_mem       loss  Instances       Size\n",
            "      26/50         0G     0.3907          1        128: 100% 80/80 [00:37<00:00,  2.15it/s]\n",
            "               classes   top1_acc   top5_acc: 100% 10/10 [00:05<00:00,  1.81it/s]\n",
            "                   all    0.00667      0.543\n",
            "\n",
            "      Epoch    GPU_mem       loss  Instances       Size\n",
            "      27/50         0G     0.3844          1        128: 100% 80/80 [00:37<00:00,  2.13it/s]\n",
            "               classes   top1_acc   top5_acc: 100% 10/10 [00:05<00:00,  1.73it/s]\n",
            "                   all       0.01      0.563\n",
            "\n",
            "      Epoch    GPU_mem       loss  Instances       Size\n",
            "      28/50         0G     0.3826          1        128: 100% 80/80 [00:37<00:00,  2.11it/s]\n",
            "               classes   top1_acc   top5_acc: 100% 10/10 [00:05<00:00,  1.92it/s]\n",
            "                   all    0.00667       0.53\n",
            "\n",
            "      Epoch    GPU_mem       loss  Instances       Size\n",
            "      29/50         0G     0.3552          1        128: 100% 80/80 [00:36<00:00,  2.17it/s]\n",
            "               classes   top1_acc   top5_acc: 100% 10/10 [00:05<00:00,  1.90it/s]\n",
            "                   all    0.00333      0.557\n",
            "\n",
            "      Epoch    GPU_mem       loss  Instances       Size\n",
            "      30/50         0G     0.3823          1        128: 100% 80/80 [00:37<00:00,  2.16it/s]\n",
            "               classes   top1_acc   top5_acc: 100% 10/10 [00:05<00:00,  1.88it/s]\n",
            "                   all    0.00667      0.573\n",
            "\n",
            "      Epoch    GPU_mem       loss  Instances       Size\n",
            "      31/50         0G     0.3628          1        128: 100% 80/80 [00:37<00:00,  2.13it/s]\n",
            "               classes   top1_acc   top5_acc: 100% 10/10 [00:05<00:00,  1.98it/s]\n",
            "                   all    0.00333       0.63\n",
            "\n",
            "      Epoch    GPU_mem       loss  Instances       Size\n",
            "      32/50         0G     0.3305          1        128: 100% 80/80 [00:37<00:00,  2.15it/s]\n",
            "               classes   top1_acc   top5_acc: 100% 10/10 [00:05<00:00,  1.87it/s]\n",
            "                   all    0.00333       0.61\n",
            "\n",
            "      Epoch    GPU_mem       loss  Instances       Size\n",
            "      33/50         0G     0.3531          1        128: 100% 80/80 [00:36<00:00,  2.20it/s]\n",
            "               classes   top1_acc   top5_acc: 100% 10/10 [00:05<00:00,  1.93it/s]\n",
            "                   all    0.00667      0.627\n",
            "\n",
            "      Epoch    GPU_mem       loss  Instances       Size\n",
            "      34/50         0G     0.3535          1        128: 100% 80/80 [00:36<00:00,  2.19it/s]\n",
            "               classes   top1_acc   top5_acc: 100% 10/10 [00:05<00:00,  1.93it/s]\n",
            "                   all    0.00667      0.613\n",
            "\n",
            "      Epoch    GPU_mem       loss  Instances       Size\n",
            "      35/50         0G     0.3927          1        128: 100% 80/80 [00:36<00:00,  2.18it/s]\n",
            "               classes   top1_acc   top5_acc: 100% 10/10 [00:05<00:00,  1.87it/s]\n",
            "                   all     0.0133       0.61\n",
            "\n",
            "      Epoch    GPU_mem       loss  Instances       Size\n",
            "      36/50         0G     0.3415          1        128: 100% 80/80 [00:37<00:00,  2.15it/s]\n",
            "               classes   top1_acc   top5_acc: 100% 10/10 [00:05<00:00,  1.84it/s]\n",
            "                   all    0.00667       0.56\n",
            "\n",
            "      Epoch    GPU_mem       loss  Instances       Size\n",
            "      37/50         0G     0.3418          1        128: 100% 80/80 [00:38<00:00,  2.09it/s]\n",
            "               classes   top1_acc   top5_acc: 100% 10/10 [00:05<00:00,  1.77it/s]\n",
            "                   all    0.00667        0.6\n",
            "\n",
            "      Epoch    GPU_mem       loss  Instances       Size\n",
            "      38/50         0G     0.3432          1        128: 100% 80/80 [00:38<00:00,  2.09it/s]\n",
            "               classes   top1_acc   top5_acc: 100% 10/10 [00:05<00:00,  1.82it/s]\n",
            "                   all    0.00667      0.533\n",
            "\n",
            "      Epoch    GPU_mem       loss  Instances       Size\n",
            "      39/50         0G     0.3644          1        128: 100% 80/80 [00:37<00:00,  2.16it/s]\n",
            "               classes   top1_acc   top5_acc: 100% 10/10 [00:05<00:00,  1.93it/s]\n",
            "                   all     0.0133      0.547\n",
            "\n",
            "      Epoch    GPU_mem       loss  Instances       Size\n",
            "      40/50         0G     0.3182          1        128: 100% 80/80 [00:36<00:00,  2.17it/s]\n",
            "               classes   top1_acc   top5_acc: 100% 10/10 [00:05<00:00,  1.85it/s]\n",
            "                   all     0.0133      0.527\n",
            "\n",
            "      Epoch    GPU_mem       loss  Instances       Size\n",
            "      41/50         0G     0.3127          1        128: 100% 80/80 [00:37<00:00,  2.12it/s]\n",
            "               classes   top1_acc   top5_acc: 100% 10/10 [00:05<00:00,  1.86it/s]\n",
            "                   all       0.01       0.54\n",
            "\n",
            "      Epoch    GPU_mem       loss  Instances       Size\n",
            "      42/50         0G     0.3276          1        128: 100% 80/80 [00:37<00:00,  2.12it/s]\n",
            "               classes   top1_acc   top5_acc: 100% 10/10 [00:05<00:00,  1.89it/s]\n",
            "                   all     0.0133      0.533\n",
            "\n",
            "      Epoch    GPU_mem       loss  Instances       Size\n",
            "      43/50         0G     0.3326          1        128: 100% 80/80 [00:36<00:00,  2.17it/s]\n",
            "               classes   top1_acc   top5_acc: 100% 10/10 [00:05<00:00,  1.88it/s]\n",
            "                   all     0.0133      0.543\n",
            "\n",
            "      Epoch    GPU_mem       loss  Instances       Size\n",
            "      44/50         0G     0.3437          1        128: 100% 80/80 [00:36<00:00,  2.18it/s]\n",
            "               classes   top1_acc   top5_acc: 100% 10/10 [00:05<00:00,  1.78it/s]\n",
            "                   all       0.01      0.543\n",
            "\n",
            "      Epoch    GPU_mem       loss  Instances       Size\n",
            "      45/50         0G     0.3383          1        128: 100% 80/80 [00:37<00:00,  2.12it/s]\n",
            "               classes   top1_acc   top5_acc: 100% 10/10 [00:05<00:00,  1.77it/s]\n",
            "                   all       0.01       0.53\n",
            "\n",
            "      Epoch    GPU_mem       loss  Instances       Size\n",
            "      46/50         0G     0.2905          1        128: 100% 80/80 [00:36<00:00,  2.20it/s]\n",
            "               classes   top1_acc   top5_acc: 100% 10/10 [00:05<00:00,  1.93it/s]\n",
            "                   all    0.00667       0.57\n",
            "\n",
            "      Epoch    GPU_mem       loss  Instances       Size\n",
            "      47/50         0G     0.3015          1        128: 100% 80/80 [00:36<00:00,  2.18it/s]\n",
            "               classes   top1_acc   top5_acc: 100% 10/10 [00:05<00:00,  1.92it/s]\n",
            "                   all       0.01      0.527\n",
            "\n",
            "      Epoch    GPU_mem       loss  Instances       Size\n",
            "      48/50         0G     0.3337          1        128: 100% 80/80 [00:36<00:00,  2.21it/s]\n",
            "               classes   top1_acc   top5_acc: 100% 10/10 [00:05<00:00,  1.89it/s]\n",
            "                   all       0.01      0.513\n",
            "\n",
            "      Epoch    GPU_mem       loss  Instances       Size\n",
            "      49/50         0G     0.3111          1        128: 100% 80/80 [00:37<00:00,  2.15it/s]\n",
            "               classes   top1_acc   top5_acc: 100% 10/10 [00:05<00:00,  1.91it/s]\n",
            "                   all       0.01      0.533\n",
            "\n",
            "      Epoch    GPU_mem       loss  Instances       Size\n",
            "      50/50         0G     0.3614          1        128: 100% 80/80 [00:36<00:00,  2.20it/s]\n",
            "               classes   top1_acc   top5_acc: 100% 10/10 [00:05<00:00,  1.88it/s]\n",
            "                   all     0.0167      0.547\n",
            "\n",
            "50 epochs completed in 0.693 hours.\n",
            "Optimizer stripped from runs/classify/train2/weights/last.pt, 31.7MB\n",
            "Optimizer stripped from runs/classify/train2/weights/best.pt, 31.7MB\n",
            "\n",
            "Validating runs/classify/train2/weights/best.pt...\n",
            "Ultralytics YOLOv8.2.18 🚀 Python-3.10.12 torch-2.2.0+cpu CPU (Intel Xeon 2.00GHz)\n",
            "YOLOv8m-cls summary (fused): 103 layers, 15771623 parameters, 0 gradients, 41.6 GFLOPs\n",
            "WARNING ⚠️ Dataset 'split=val' not found, using 'split=test' instead.\n",
            "\u001b[34m\u001b[1mtrain:\u001b[0m /content/gdrive/MyDrive/yolodataset/train... found 1265 images in 7 classes ✅ \n",
            "\u001b[34m\u001b[1mval:\u001b[0m None...\n",
            "\u001b[34m\u001b[1mtest:\u001b[0m /content/gdrive/MyDrive/yolodataset/test... found 300 images in 6 classes: ERROR ❌️ requires 7 classes, not 6\n",
            "               classes   top1_acc   top5_acc: 100% 10/10 [00:06<00:00,  1.51it/s]\n",
            "                   all     0.0133      0.743\n",
            "Speed: 0.0ms preprocess, 1.9ms inference, 0.0ms loss, 0.0ms postprocess per image\n",
            "Results saved to \u001b[1mruns/classify/train2\u001b[0m\n",
            "Results saved to \u001b[1mruns/classify/train2\u001b[0m\n",
            "💡 Learn more at https://docs.ultralytics.com/modes/train\n"
          ]
        }
      ],
      "source": [
        "%cd {HOME}\n",
        "\n",
        "!yolo task=classify mode=train model=yolov8m-cls.pt data='{DATA_DIR}' epochs=50 imgsz=128"
      ]
    },
    {
      "cell_type": "code",
      "source": [],
      "metadata": {
        "id": "tzD8U5MNcfS_"
      },
      "execution_count": null,
      "outputs": []
    },
    {
      "cell_type": "markdown",
      "metadata": {
        "id": "6ODk1VTlevxn"
      },
      "source": [
        "## Validate Custom Model"
      ]
    },
    {
      "cell_type": "code",
      "execution_count": null,
      "metadata": {
        "id": "YpyuwrNlXc1P",
        "colab": {
          "base_uri": "https://localhost:8080/"
        },
        "outputId": "45a22e3f-7232-49cd-fa3c-89b5893628c0"
      },
      "outputs": [
        {
          "output_type": "stream",
          "name": "stdout",
          "text": [
            "/content\n",
            "Traceback (most recent call last):\n",
            "  File \"/usr/local/bin/yolo\", line 8, in <module>\n",
            "    sys.exit(entrypoint())\n",
            "  File \"/usr/local/lib/python3.10/dist-packages/ultralytics/cfg/__init__.py\", line 556, in entrypoint\n",
            "    model = YOLO(model, task=task)\n",
            "  File \"/usr/local/lib/python3.10/dist-packages/ultralytics/models/yolo/model.py\", line 23, in __init__\n",
            "    super().__init__(model=model, task=task, verbose=verbose)\n",
            "  File \"/usr/local/lib/python3.10/dist-packages/ultralytics/engine/model.py\", line 152, in __init__\n",
            "    self._load(model, task=task)\n",
            "  File \"/usr/local/lib/python3.10/dist-packages/ultralytics/engine/model.py\", line 241, in _load\n",
            "    self.model, self.ckpt = attempt_load_one_weight(weights)\n",
            "  File \"/usr/local/lib/python3.10/dist-packages/ultralytics/nn/tasks.py\", line 806, in attempt_load_one_weight\n",
            "    ckpt, weight = torch_safe_load(weight)  # load ckpt\n",
            "  File \"/usr/local/lib/python3.10/dist-packages/ultralytics/nn/tasks.py\", line 732, in torch_safe_load\n",
            "    ckpt = torch.load(file, map_location=\"cpu\")\n",
            "  File \"/usr/local/lib/python3.10/dist-packages/torch/serialization.py\", line 998, in load\n",
            "    with _open_file_like(f, 'rb') as opened_file:\n",
            "  File \"/usr/local/lib/python3.10/dist-packages/torch/serialization.py\", line 445, in _open_file_like\n",
            "    return _open_file(name_or_buffer, mode)\n",
            "  File \"/usr/local/lib/python3.10/dist-packages/torch/serialization.py\", line 426, in __init__\n",
            "    super().__init__(open(name, mode))\n",
            "FileNotFoundError: [Errno 2] No such file or directory: '/content/runs/classify/train/weights/best.pt'\n"
          ]
        }
      ],
      "source": [
        "%cd {HOME}\n",
        "\n",
        "!yolo task=classify mode=val model={HOME}/runs/classify/train/weights/best.pt data='{DATA_DIR}'"
      ]
    },
    {
      "cell_type": "code",
      "source": [
        "# Image(filename=f'{HOME}/runs/classify/val/confusion_matrix.png')"
      ],
      "metadata": {
        "id": "SUPfzY9CLVDw"
      },
      "execution_count": null,
      "outputs": []
    },
    {
      "cell_type": "markdown",
      "metadata": {
        "id": "i4eASbcWkQBq"
      },
      "source": [
        "## Inference with Custom Model"
      ]
    },
    {
      "cell_type": "code",
      "execution_count": null,
      "metadata": {
        "id": "Wjc1ctZykYuf",
        "colab": {
          "base_uri": "https://localhost:8080/"
        },
        "outputId": "eec5d3be-2553-4947-fe9a-c63b50ec2557"
      },
      "outputs": [
        {
          "output_type": "stream",
          "name": "stdout",
          "text": [
            "/content\n",
            "Traceback (most recent call last):\n",
            "  File \"/usr/local/bin/yolo\", line 8, in <module>\n",
            "    sys.exit(entrypoint())\n",
            "  File \"/usr/local/lib/python3.10/dist-packages/ultralytics/cfg/__init__.py\", line 556, in entrypoint\n",
            "    model = YOLO(model, task=task)\n",
            "  File \"/usr/local/lib/python3.10/dist-packages/ultralytics/models/yolo/model.py\", line 23, in __init__\n",
            "    super().__init__(model=model, task=task, verbose=verbose)\n",
            "  File \"/usr/local/lib/python3.10/dist-packages/ultralytics/engine/model.py\", line 152, in __init__\n",
            "    self._load(model, task=task)\n",
            "  File \"/usr/local/lib/python3.10/dist-packages/ultralytics/engine/model.py\", line 241, in _load\n",
            "    self.model, self.ckpt = attempt_load_one_weight(weights)\n",
            "  File \"/usr/local/lib/python3.10/dist-packages/ultralytics/nn/tasks.py\", line 806, in attempt_load_one_weight\n",
            "    ckpt, weight = torch_safe_load(weight)  # load ckpt\n",
            "  File \"/usr/local/lib/python3.10/dist-packages/ultralytics/nn/tasks.py\", line 732, in torch_safe_load\n",
            "    ckpt = torch.load(file, map_location=\"cpu\")\n",
            "  File \"/usr/local/lib/python3.10/dist-packages/torch/serialization.py\", line 998, in load\n",
            "    with _open_file_like(f, 'rb') as opened_file:\n",
            "  File \"/usr/local/lib/python3.10/dist-packages/torch/serialization.py\", line 445, in _open_file_like\n",
            "    return _open_file(name_or_buffer, mode)\n",
            "  File \"/usr/local/lib/python3.10/dist-packages/torch/serialization.py\", line 426, in __init__\n",
            "    super().__init__(open(name, mode))\n",
            "FileNotFoundError: [Errno 2] No such file or directory: '/content/runs/classify/train/weights/best.pt'\n"
          ]
        }
      ],
      "source": [
        "%cd {HOME}\n",
        "!yolo task=classify mode=predict model={HOME}/runs/classify/train/weights/best.pt conf=0.25 source=\"{DATA_DIR}/test/3\""
      ]
    },
    {
      "cell_type": "code",
      "execution_count": null,
      "metadata": {
        "id": "jbVjEtPAkz3j"
      },
      "outputs": [],
      "source": [
        "import glob\n",
        "from IPython.display import Image, display\n",
        "\n",
        "for image_path in glob.glob(f'{HOME}/runs/classify/predict/*.jpg')[:10]:\n",
        "      display(Image(filename=image_path, height=600))\n",
        "      print(\"\\n\")"
      ]
    },
    {
      "cell_type": "markdown",
      "source": [
        "## Export Model\n",
        "\n",
        "Export a YOLOv8 model to any supported format below with the `format` argument, i.e. `format=onnx`. See [YOLOv8 Export Docs](https://docs.ultralytics.com/modes/export/) for more information.\n",
        "\n",
        "- 💡 ProTip: Export to [ONNX](https://onnx.ai/) or [OpenVINO](https://docs.openvino.ai/latest/index.html) for up to 3x CPU speedup.  \n",
        "- 💡 ProTip: Export to [TensorRT](https://developer.nvidia.com/tensorrt) for up to 5x GPU speedup.\n",
        "\n",
        "\n",
        "| Format                                                                     | `format=`          | Model                     |\n",
        "|----------------------------------------------------------------------------|--------------------|---------------------------|\n",
        "| [PyTorch](https://pytorch.org/)                                            | -                  | `yolov8n.pt`              |\n",
        "| [TorchScript](https://pytorch.org/docs/stable/jit.html)                    | `torchscript`      | `yolov8n.torchscript`     |\n",
        "| [ONNX](https://onnx.ai/)                                                   | `onnx`             | `yolov8n.onnx`            |\n",
        "| [OpenVINO](https://docs.openvino.ai/latest/index.html)                     | `openvino`         | `yolov8n_openvino_model/` |\n",
        "| [TensorRT](https://developer.nvidia.com/tensorrt)                          | `engine`           | `yolov8n.engine`          |\n",
        "| [CoreML](https://github.com/apple/coremltools)                             | `coreml`           | `yolov8n.mlmodel`         |\n",
        "| [TensorFlow SavedModel](https://www.tensorflow.org/guide/saved_model)      | `saved_model`      | `yolov8n_saved_model/`    |\n",
        "| [TensorFlow GraphDef](https://www.tensorflow.org/api_docs/python/tf/Graph) | `pb`               | `yolov8n.pb`              |\n",
        "| [TensorFlow Lite](https://www.tensorflow.org/lite)                         | `tflite`           | `yolov8n.tflite`          |\n",
        "| [TensorFlow Edge TPU](https://coral.ai/docs/edgetpu/models-intro/)         | `edgetpu`          | `yolov8n_edgetpu.tflite`  |\n",
        "| [TensorFlow.js](https://www.tensorflow.org/js)                             | `tfjs`             | `yolov8n_web_model/`      |\n",
        "| [PaddlePaddle](https://github.com/PaddlePaddle)                            | `paddle`           | `yolov8n_paddle_model/`   |\n",
        "\n"
      ],
      "metadata": {
        "id": "1KJ2b7jrERz4"
      }
    },
    {
      "cell_type": "code",
      "source": [
        "!yolo export model={HOME}/runs/classify/train/weights/best.pt format=onnx"
      ],
      "metadata": {
        "id": "MsllKPf3ESYW",
        "colab": {
          "base_uri": "https://localhost:8080/"
        },
        "outputId": "021c5b2f-ce7e-4c60-dcef-5c01930ce3d2"
      },
      "execution_count": null,
      "outputs": [
        {
          "output_type": "stream",
          "name": "stdout",
          "text": [
            "Traceback (most recent call last):\n",
            "  File \"/usr/local/bin/yolo\", line 8, in <module>\n",
            "    sys.exit(entrypoint())\n",
            "  File \"/usr/local/lib/python3.10/dist-packages/ultralytics/cfg/__init__.py\", line 556, in entrypoint\n",
            "    model = YOLO(model, task=task)\n",
            "  File \"/usr/local/lib/python3.10/dist-packages/ultralytics/models/yolo/model.py\", line 23, in __init__\n",
            "    super().__init__(model=model, task=task, verbose=verbose)\n",
            "  File \"/usr/local/lib/python3.10/dist-packages/ultralytics/engine/model.py\", line 152, in __init__\n",
            "    self._load(model, task=task)\n",
            "  File \"/usr/local/lib/python3.10/dist-packages/ultralytics/engine/model.py\", line 241, in _load\n",
            "    self.model, self.ckpt = attempt_load_one_weight(weights)\n",
            "  File \"/usr/local/lib/python3.10/dist-packages/ultralytics/nn/tasks.py\", line 806, in attempt_load_one_weight\n",
            "    ckpt, weight = torch_safe_load(weight)  # load ckpt\n",
            "  File \"/usr/local/lib/python3.10/dist-packages/ultralytics/nn/tasks.py\", line 732, in torch_safe_load\n",
            "    ckpt = torch.load(file, map_location=\"cpu\")\n",
            "  File \"/usr/local/lib/python3.10/dist-packages/torch/serialization.py\", line 998, in load\n",
            "    with _open_file_like(f, 'rb') as opened_file:\n",
            "  File \"/usr/local/lib/python3.10/dist-packages/torch/serialization.py\", line 445, in _open_file_like\n",
            "    return _open_file(name_or_buffer, mode)\n",
            "  File \"/usr/local/lib/python3.10/dist-packages/torch/serialization.py\", line 426, in __init__\n",
            "    super().__init__(open(name, mode))\n",
            "FileNotFoundError: [Errno 2] No such file or directory: '/content/runs/classify/train/weights/best.pt'\n"
          ]
        }
      ]
    },
    {
      "cell_type": "markdown",
      "source": [
        "### Download Model"
      ],
      "metadata": {
        "id": "gRzTh2l0FHha"
      }
    },
    {
      "cell_type": "code",
      "source": [
        "from google.colab import files\n"
      ],
      "metadata": {
        "id": "YjNK5y9aEd-A"
      },
      "execution_count": null,
      "outputs": []
    }
  ],
  "metadata": {
    "accelerator": "TPU",
    "colab": {
      "provenance": [],
      "gpuType": "V28",
      "machine_shape": "hm"
    },
    "kernelspec": {
      "display_name": "Python 3",
      "name": "python3"
    },
    "language_info": {
      "name": "python"
    }
  },
  "nbformat": 4,
  "nbformat_minor": 0
}